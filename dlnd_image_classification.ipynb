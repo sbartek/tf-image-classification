{
 "cells": [
  {
   "cell_type": "markdown",
   "metadata": {
    "collapsed": true
   },
   "source": [
    "# Image Classification\n",
    "In this project, you'll classify images from the [CIFAR-10 dataset](https://www.cs.toronto.edu/~kriz/cifar.html).  The dataset consists of airplanes, dogs, cats, and other objects. You'll preprocess the images, then train a convolutional neural network on all the samples. The images need to be normalized and the labels need to be one-hot encoded.  You'll get to apply what you learned and build a convolutional, max pooling, dropout, and fully connected layers.  At the end, you'll get to see your neural network's predictions on the sample images.\n",
    "## Get the Data\n",
    "Run the following cell to download the [CIFAR-10 dataset for python](https://www.cs.toronto.edu/~kriz/cifar-10-python.tar.gz)."
   ]
  },
  {
   "cell_type": "code",
   "execution_count": 1,
   "metadata": {},
   "outputs": [
    {
     "name": "stdout",
     "output_type": "stream",
     "text": [
      "All files found!\n"
     ]
    }
   ],
   "source": [
    "\"\"\"\n",
    "DON'T MODIFY ANYTHING IN THIS CELL THAT IS BELOW THIS LINE\n",
    "\"\"\"\n",
    "from urllib.request import urlretrieve\n",
    "from os.path import isfile, isdir\n",
    "from tqdm import tqdm\n",
    "import problem_unittests as tests\n",
    "import tarfile\n",
    "\n",
    "cifar10_dataset_folder_path = 'cifar-10-batches-py'\n",
    "\n",
    "# Use Floyd's cifar-10 dataset if present\n",
    "floyd_cifar10_location = '/input/cifar-10/python.tar.gz'\n",
    "if isfile(floyd_cifar10_location):\n",
    "    tar_gz_path = floyd_cifar10_location\n",
    "else:\n",
    "    tar_gz_path = 'cifar-10-python.tar.gz'\n",
    "\n",
    "class DLProgress(tqdm):\n",
    "    last_block = 0\n",
    "\n",
    "    def hook(self, block_num=1, block_size=1, total_size=None):\n",
    "        self.total = total_size\n",
    "        self.update((block_num - self.last_block) * block_size)\n",
    "        self.last_block = block_num\n",
    "\n",
    "if not isfile(tar_gz_path):\n",
    "    with DLProgress(unit='B', unit_scale=True, miniters=1, desc='CIFAR-10 Dataset') as pbar:\n",
    "        urlretrieve(\n",
    "            'https://www.cs.toronto.edu/~kriz/cifar-10-python.tar.gz',\n",
    "            tar_gz_path,\n",
    "            pbar.hook)\n",
    "\n",
    "if not isdir(cifar10_dataset_folder_path):\n",
    "    with tarfile.open(tar_gz_path) as tar:\n",
    "        tar.extractall()\n",
    "        tar.close()\n",
    "\n",
    "\n",
    "tests.test_folder_path(cifar10_dataset_folder_path)"
   ]
  },
  {
   "cell_type": "markdown",
   "metadata": {},
   "source": [
    "## Explore the Data\n",
    "The dataset is broken into batches to prevent your machine from running out of memory.  The CIFAR-10 dataset consists of 5 batches, named `data_batch_1`, `data_batch_2`, etc.. Each batch contains the labels and images that are one of the following:\n",
    "* airplane\n",
    "* automobile\n",
    "* bird\n",
    "* cat\n",
    "* deer\n",
    "* dog\n",
    "* frog\n",
    "* horse\n",
    "* ship\n",
    "* truck\n",
    "\n",
    "Understanding a dataset is part of making predictions on the data.  Play around with the code cell below by changing the `batch_id` and `sample_id`. The `batch_id` is the id for a batch (1-5). The `sample_id` is the id for a image and label pair in the batch.\n",
    "\n",
    "Ask yourself \"What are all possible labels?\", \"What is the range of values for the image data?\", \"Are the labels in order or random?\".  Answers to questions like these will help you preprocess the data and end up with better predictions."
   ]
  },
  {
   "cell_type": "code",
   "execution_count": 2,
   "metadata": {},
   "outputs": [
    {
     "name": "stdout",
     "output_type": "stream",
     "text": [
      "\n",
      "Stats of batch 1:\n",
      "Samples: 10000\n",
      "Label Counts: {0: 1005, 1: 974, 2: 1032, 3: 1016, 4: 999, 5: 937, 6: 1030, 7: 1001, 8: 1025, 9: 981}\n",
      "First 20 Labels: [6, 9, 9, 4, 1, 1, 2, 7, 8, 3, 4, 7, 7, 2, 9, 9, 9, 3, 2, 6]\n",
      "\n",
      "Example of Image 5:\n",
      "Image - Min Value: 0 Max Value: 252\n",
      "Image - Shape: (32, 32, 3)\n",
      "Label - Label Id: 1 Name: automobile\n"
     ]
    },
    {
     "data": {
      "image/png": "[encoded data removed]",
      "text/plain": [
       "<matplotlib.figure.Figure at 0x1133b5898>"
      ]
     },
     "metadata": {
      "image/png": {
       "height": 250,
       "width": 253
      }
     },
     "output_type": "display_data"
    }
   ],
   "source": [
    "%matplotlib inline\n",
    "%config InlineBackend.figure_format = 'retina'\n",
    "\n",
    "import helper\n",
    "import numpy as np\n",
    "\n",
    "# Explore the dataset\n",
    "batch_id = 1\n",
    "sample_id = 5\n",
    "helper.display_stats(cifar10_dataset_folder_path, batch_id, sample_id)"
   ]
  },
  {
   "cell_type": "markdown",
   "metadata": {},
   "source": [
    "## Implement Preprocess Functions\n",
    "### Normalize\n",
    "In the cell below, implement the `normalize` function to take in image data, `x`, and return it as a normalized Numpy array. The values should be in the range of 0 to 1, inclusive.  The return object should be the same shape as `x`."
   ]
  },
  {
   "cell_type": "code",
   "execution_count": 3,
   "metadata": {},
   "outputs": [
    {
     "name": "stdout",
     "output_type": "stream",
     "text": [
      "Tests Passed\n"
     ]
    }
   ],
   "source": [
    "def normalize(x):\n",
    "    \"\"\"\n",
    "    Normalize a list of sample image data in the range of 0 to 1\n",
    "    : x: List of image data.  The image shape is (32, 32, 3)\n",
    "    : return: Numpy array of normalize data\n",
    "    \"\"\"\n",
    "    # TODO: Implement Function\n",
    "    return x/255\n",
    "\n",
    "\n",
    "\"\"\"\n",
    "DON'T MODIFY ANYTHING IN THIS CELL THAT IS BELOW THIS LINE\n",
    "\"\"\"\n",
    "tests.test_normalize(normalize)"
   ]
  },
  {
   "cell_type": "markdown",
   "metadata": {},
   "source": [
    "### One-hot encode\n",
    "Just like the previous code cell, you'll be implementing a function for preprocessing.  This time, you'll implement the `one_hot_encode` function. The input, `x`, are a list of labels.  Implement the function to return the list of labels as One-Hot encoded Numpy array.  The possible values for labels are 0 to 9. The one-hot encoding function should return the same encoding for each value between each call to `one_hot_encode`.  Make sure to save the map of encodings outside the function.\n",
    "\n",
    "Hint: Don't reinvent the wheel."
   ]
  },
  {
   "cell_type": "code",
   "execution_count": 4,
   "metadata": {},
   "outputs": [
    {
     "name": "stdout",
     "output_type": "stream",
     "text": [
      "[[ 1.  0.  0.  0.  0.  0.  0.  0.  0.  0.]\n",
      " [ 0.  1.  0.  0.  0.  0.  0.  0.  0.  0.]\n",
      " [ 0.  1.  0.  0.  0.  0.  0.  0.  0.  0.]\n",
      " [ 0.  0.  1.  0.  0.  0.  0.  0.  0.  0.]]\n"
     ]
    }
   ],
   "source": [
    "from sklearn.preprocessing import OneHotEncoder\n",
    "import numpy as np\n",
    "\n",
    "def one_hot_encode(x):\n",
    "    \"\"\"\n",
    "    One hot encode a list of sample labels. Return a one-hot encoded vector for each label.\n",
    "    : x: List of sample Labels\n",
    "    : return: Numpy array of one-hot encoded labels\n",
    "    \"\"\"\n",
    "    # TODO: Implement Function\n",
    "    return np.eye(10)[x]\n",
    "    \n",
    "    \n",
    "\n",
    "print(one_hot_encode([0, 1, 1, 2]))"
   ]
  },
  {
   "cell_type": "code",
   "execution_count": 5,
   "metadata": {},
   "outputs": [
    {
     "name": "stdout",
     "output_type": "stream",
     "text": [
      "Tests Passed\n"
     ]
    }
   ],
   "source": [
    "\"\"\"\n",
    "DON'T MODIFY ANYTHING IN THIS CELL THAT IS BELOW THIS LINE\n",
    "\"\"\"\n",
    "tests.test_one_hot_encode(one_hot_encode)"
   ]
  },
  {
   "cell_type": "markdown",
   "metadata": {},
   "source": [
    "### Randomize Data\n",
    "As you saw from exploring the data above, the order of the samples are randomized.  It doesn't hurt to randomize it again, but you don't need to for this dataset."
   ]
  },
  {
   "cell_type": "markdown",
   "metadata": {},
   "source": [
    "## Preprocess all the data and save it\n",
    "Running the code cell below will preprocess all the CIFAR-10 data and save it to file. The code below also uses 10% of the training data for validation."
   ]
  },
  {
   "cell_type": "code",
   "execution_count": 6,
   "metadata": {
    "collapsed": true
   },
   "outputs": [],
   "source": [
    "\"\"\"\n",
    "DON'T MODIFY ANYTHING IN THIS CELL\n",
    "\"\"\"\n",
    "# Preprocess Training, Validation, and Testing Data\n",
    "helper.preprocess_and_save_data(cifar10_dataset_folder_path, normalize, one_hot_encode)"
   ]
  },
  {
   "cell_type": "markdown",
   "metadata": {},
   "source": [
    "# Check Point\n",
    "This is your first checkpoint.  If you ever decide to come back to this notebook or have to restart the notebook, you can start from here.  The preprocessed data has been saved to disk."
   ]
  },
  {
   "cell_type": "code",
   "execution_count": 7,
   "metadata": {
    "collapsed": true
   },
   "outputs": [],
   "source": [
    "\"\"\"\n",
    "DON'T MODIFY ANYTHING IN THIS CELL\n",
    "\"\"\"\n",
    "import pickle\n",
    "import problem_unittests as tests\n",
    "import helper\n",
    "\n",
    "# Load the Preprocessed Validation data\n",
    "valid_features, valid_labels = pickle.load(open('preprocess_validation.p', mode='rb'))"
   ]
  },
  {
   "cell_type": "markdown",
   "metadata": {},
   "source": [
    "## Build the network\n",
    "For the neural network, you'll build each layer into a function.  Most of the code you've seen has been outside of functions. To test your code more thoroughly, we require that you put each layer in a function.  This allows us to give you better feedback and test for simple mistakes using our unittests before you submit your project.\n",
    "\n",
    ">**Note:** If you're finding it hard to dedicate enough time for this course each week, we've provided a small shortcut to this part of the project. In the next couple of problems, you'll have the option to use classes from the [TensorFlow Layers](https://www.tensorflow.org/api_docs/python/tf/layers) or [TensorFlow Layers (contrib)](https://www.tensorflow.org/api_guides/python/contrib.layers) packages to build each layer, except the layers you build in the \"Convolutional and Max Pooling Layer\" section.  TF Layers is similar to Keras's and TFLearn's abstraction to layers, so it's easy to pickup.\n",
    "\n",
    ">However, if you would like to get the most out of this course, try to solve all the problems _without_ using anything from the TF Layers packages. You **can** still use classes from other packages that happen to have the same name as ones you find in TF Layers! For example, instead of using the TF Layers version of the `conv2d` class, [tf.layers.conv2d](https://www.tensorflow.org/api_docs/python/tf/layers/conv2d), you would want to use the TF Neural Network version of `conv2d`, [tf.nn.conv2d](https://www.tensorflow.org/api_docs/python/tf/nn/conv2d). \n",
    "\n",
    "Let's begin!\n",
    "\n",
    "### Input\n",
    "The neural network needs to read the image data, one-hot encoded labels, and dropout keep probability. Implement the following functions\n",
    "* Implement `neural_net_image_input`\n",
    " * Return a [TF Placeholder](https://www.tensorflow.org/api_docs/python/tf/placeholder)\n",
    " * Set the shape using `image_shape` with batch size set to `None`.\n",
    " * Name the TensorFlow placeholder \"x\" using the TensorFlow `name` parameter in the [TF Placeholder](https://www.tensorflow.org/api_docs/python/tf/placeholder).\n",
    "* Implement `neural_net_label_input`\n",
    " * Return a [TF Placeholder](https://www.tensorflow.org/api_docs/python/tf/placeholder)\n",
    " * Set the shape using `n_classes` with batch size set to `None`.\n",
    " * Name the TensorFlow placeholder \"y\" using the TensorFlow `name` parameter in the [TF Placeholder](https://www.tensorflow.org/api_docs/python/tf/placeholder).\n",
    "* Implement `neural_net_keep_prob_input`\n",
    " * Return a [TF Placeholder](https://www.tensorflow.org/api_docs/python/tf/placeholder) for dropout keep probability.\n",
    " * Name the TensorFlow placeholder \"keep_prob\" using the TensorFlow `name` parameter in the [TF Placeholder](https://www.tensorflow.org/api_docs/python/tf/placeholder).\n",
    "\n",
    "These names will be used at the end of the project to load your saved model.\n",
    "\n",
    "Note: `None` for shapes in TensorFlow allow for a dynamic size."
   ]
  },
  {
   "cell_type": "code",
   "execution_count": 8,
   "metadata": {},
   "outputs": [
    {
     "name": "stdout",
     "output_type": "stream",
     "text": [
      "Image Input Tests Passed.\n",
      "Label Input Tests Passed.\n",
      "Keep Prob Tests Passed.\n"
     ]
    }
   ],
   "source": [
    "import tensorflow as tf\n",
    "\n",
    "def neural_net_image_input(image_shape):\n",
    "    \"\"\"\n",
    "    Return a Tensor for a batch of image input\n",
    "    : image_shape: Shape of the images\n",
    "    : return: Tensor for image input.\n",
    "    \"\"\"\n",
    "    # TODO: Implement Function\n",
    "    height, width, depth = image_shape    \n",
    "    return tf.placeholder(tf.float32, shape=[None, height, width, depth], name='x')\n",
    "\n",
    "\n",
    "def neural_net_label_input(n_classes):\n",
    "    \"\"\"\n",
    "    Return a Tensor for a batch of label input\n",
    "    : n_classes: Number of classes\n",
    "    : return: Tensor for label input.\n",
    "    \"\"\"\n",
    "    # TODO: Implement Function\n",
    "    return tf.placeholder(tf.float32, shape=[None, n_classes], name=\"y\")\n",
    "\n",
    "\n",
    "def neural_net_keep_prob_input():\n",
    "    \"\"\"\n",
    "    Return a Tensor for keep probability\n",
    "    : return: Tensor for keep probability.\n",
    "    \"\"\"\n",
    "    # TODO: Implement Function\n",
    "    return tf.placeholder(tf.float32, name=\"keep_prob\")\n",
    "\n",
    "\n",
    "\"\"\"\n",
    "DON'T MODIFY ANYTHING IN THIS CELL THAT IS BELOW THIS LINE\n",
    "\"\"\"\n",
    "tf.reset_default_graph()\n",
    "tests.test_nn_image_inputs(neural_net_image_input)\n",
    "tests.test_nn_label_inputs(neural_net_label_input)\n",
    "tests.test_nn_keep_prob_inputs(neural_net_keep_prob_input)"
   ]
  },
  {
   "cell_type": "markdown",
   "metadata": {},
   "source": [
    "### Convolution and Max Pooling Layer\n",
    "Convolution layers have a lot of success with images. For this code cell, you should implement the function `conv2d_maxpool` to apply convolution then max pooling:\n",
    "* Create the weight and bias using `conv_ksize`, `conv_num_outputs` and the shape of `x_tensor`.\n",
    "* Apply a convolution to `x_tensor` using weight and `conv_strides`.\n",
    " * We recommend you use same padding, but you're welcome to use any padding.\n",
    "* Add bias\n",
    "* Add a nonlinear activation to the convolution.\n",
    "* Apply Max Pooling using `pool_ksize` and `pool_strides`.\n",
    " * We recommend you use same padding, but you're welcome to use any padding.\n",
    "\n",
    "**Note:** You **can't** use [TensorFlow Layers](https://www.tensorflow.org/api_docs/python/tf/layers) or [TensorFlow Layers (contrib)](https://www.tensorflow.org/api_guides/python/contrib.layers) for **this** layer, but you can still use TensorFlow's [Neural Network](https://www.tensorflow.org/api_docs/python/tf/nn) package. You may still use the shortcut option for all the **other** layers."
   ]
  },
  {
   "cell_type": "code",
   "execution_count": 9,
   "metadata": {},
   "outputs": [
    {
     "name": "stdout",
     "output_type": "stream",
     "text": [
      "Tests Passed\n"
     ]
    }
   ],
   "source": [
    "def conv2d_maxpool(x_tensor, conv_num_outputs, conv_ksize, conv_strides, pool_ksize, pool_strides):\n",
    "    \"\"\"\n",
    "    Apply convolution then max pooling to x_tensor\n",
    "    :param x_tensor: TensorFlow Tensor\n",
    "    :param conv_num_outputs: Number of outputs for the convolutional layer\n",
    "    :param conv_ksize: kernal size 2-D Tuple for the convolutional layer\n",
    "    :param conv_strides: Stride 2-D Tuple for convolution\n",
    "    :param pool_ksize: kernal size 2-D Tuple for pool\n",
    "    :param pool_strides: Stride 2-D Tuple for pool\n",
    "    : return: A tensor that represents convolution and max pooling of x_tensor\n",
    "    \"\"\"\n",
    "    # TODO: Implement Function\n",
    "    x_tensor_shape = x_tensor.get_shape().as_list()\n",
    "    weight = tf.Variable(tf.truncated_normal(\n",
    "        (conv_ksize[0], conv_ksize[1], x_tensor_shape[3], conv_num_outputs)\n",
    "    )/10)     \n",
    "    bias = tf.Variable(tf.zeros(conv_num_outputs))\n",
    "    conv_layer = tf.nn.conv2d(\n",
    "        x_tensor, weight, \n",
    "        strides=[1, conv_strides[0], conv_strides[1], 1], \n",
    "        padding='SAME')\n",
    "    conv_layer = tf.nn.bias_add(conv_layer, bias)\n",
    "    conv_layer = tf.nn.relu(conv_layer)\n",
    "    conv_layer = tf.nn.max_pool(\n",
    "        conv_layer,\n",
    "        ksize=[1, pool_ksize[0], pool_ksize[1], 1],\n",
    "        strides=[1, pool_strides[0], pool_strides[1], 1],\n",
    "        padding='SAME')\n",
    "    #print( conv_num_outputs, conv_ksize, conv_strides, pool_ksize, pool_strides)\n",
    "    return conv_layer\n",
    "\n",
    "\n",
    "\n",
    "\"\"\"\n",
    "DON'T MODIFY ANYTHING IN THIS CELL THAT IS BELOW THIS LINE\n",
    "\"\"\"\n",
    "tests.test_con_pool(conv2d_maxpool)"
   ]
  },
  {
   "cell_type": "markdown",
   "metadata": {},
   "source": [
    "### Flatten Layer\n",
    "Implement the `flatten` function to change the dimension of `x_tensor` from a 4-D tensor to a 2-D tensor.  The output should be the shape (*Batch Size*, *Flattened Image Size*). Shortcut option: you can use classes from the [TensorFlow Layers](https://www.tensorflow.org/api_docs/python/tf/layers) or [TensorFlow Layers (contrib)](https://www.tensorflow.org/api_guides/python/contrib.layers) packages for this layer. For more of a challenge, only use other TensorFlow packages."
   ]
  },
  {
   "cell_type": "code",
   "execution_count": 10,
   "metadata": {},
   "outputs": [
    {
     "name": "stdout",
     "output_type": "stream",
     "text": [
      "Tests Passed\n"
     ]
    }
   ],
   "source": [
    "def flatten(x_tensor):\n",
    "    \"\"\"\n",
    "    Flatten x_tensor to (Batch Size, Flattened Image Size)\n",
    "    : x_tensor: A tensor of size (Batch Size, ...), where ... are the image dimensions.\n",
    "    : return: A tensor of size (Batch Size, Flattened Image Size).\n",
    "    \"\"\"\n",
    "    # TODO: Implement Function\n",
    "    image_sizes = x_tensor.get_shape().as_list()\n",
    "    return tf.reshape(x_tensor, [-1, image_sizes[1]*image_sizes[2]*image_sizes[3]])\n",
    "\n",
    "\n",
    "\"\"\"\n",
    "DON'T MODIFY ANYTHING IN THIS CELL THAT IS BELOW THIS LINE\n",
    "\"\"\"\n",
    "tests.test_flatten(flatten)"
   ]
  },
  {
   "cell_type": "markdown",
   "metadata": {},
   "source": [
    "### Fully-Connected Layer\n",
    "Implement the `fully_conn` function to apply a fully connected layer to `x_tensor` with the shape (*Batch Size*, *num_outputs*). Shortcut option: you can use classes from the [TensorFlow Layers](https://www.tensorflow.org/api_docs/python/tf/layers) or [TensorFlow Layers (contrib)](https://www.tensorflow.org/api_guides/python/contrib.layers) packages for this layer. For more of a challenge, only use other TensorFlow packages."
   ]
  },
  {
   "cell_type": "code",
   "execution_count": 11,
   "metadata": {},
   "outputs": [
    {
     "name": "stdout",
     "output_type": "stream",
     "text": [
      "Tests Passed\n"
     ]
    }
   ],
   "source": [
    "def fully_conn(x_tensor, num_outputs):\n",
    "    \"\"\"\n",
    "    Apply a fully connected layer to x_tensor using weight and bias\n",
    "    : x_tensor: A 2-D tensor where the first dimension is batch size.\n",
    "    : num_outputs: The number of output that the new tensor should be.\n",
    "    : return: A 2-D tensor where the second dimension is num_outputs.\n",
    "    \"\"\"\n",
    "    # TODO: Implement Function\n",
    "    weight = tf.Variable(tf.truncated_normal((x_tensor.get_shape().as_list()[1], num_outputs))/10)     \n",
    "    bias = tf.Variable(tf.zeros(num_outputs))\n",
    "    fc = tf.add(tf.matmul(x_tensor, weight), bias)\n",
    "    fc = tf.nn.relu(fc)\n",
    "    return fc\n",
    "\n",
    "\n",
    "\"\"\"\n",
    "DON'T MODIFY ANYTHING IN THIS CELL THAT IS BELOW THIS LINE\n",
    "\"\"\"\n",
    "tests.test_fully_conn(fully_conn)"
   ]
  },
  {
   "cell_type": "markdown",
   "metadata": {},
   "source": [
    "### Output Layer\n",
    "Implement the `output` function to apply a fully connected layer to `x_tensor` with the shape (*Batch Size*, *num_outputs*). Shortcut option: you can use classes from the [TensorFlow Layers](https://www.tensorflow.org/api_docs/python/tf/layers) or [TensorFlow Layers (contrib)](https://www.tensorflow.org/api_guides/python/contrib.layers) packages for this layer. For more of a challenge, only use other TensorFlow packages.\n",
    "\n",
    "**Note:** Activation, softmax, or cross entropy should **not** be applied to this."
   ]
  },
  {
   "cell_type": "code",
   "execution_count": 12,
   "metadata": {},
   "outputs": [
    {
     "name": "stdout",
     "output_type": "stream",
     "text": [
      "Tests Passed\n"
     ]
    }
   ],
   "source": [
    "def output(x_tensor, num_outputs):\n",
    "    \"\"\"\n",
    "    Apply a output layer to x_tensor using weight and bias\n",
    "    : x_tensor: A 2-D tensor where the first dimension is batch size.\n",
    "    : num_outputs: The number of output that the new tensor should be.\n",
    "    : return: A 2-D tensor where the second dimension is num_outputs.\n",
    "    \"\"\"\n",
    "    # TODO: Implement Function\n",
    "    weight = tf.Variable(tf.truncated_normal((x_tensor.get_shape().as_list()[1], num_outputs)))     \n",
    "    bias = tf.Variable(tf.zeros(num_outputs))\n",
    "    out = tf.add(tf.matmul(x_tensor, weight), bias)\n",
    "    return out\n",
    "\n",
    "\n",
    "\"\"\"\n",
    "DON'T MODIFY ANYTHING IN THIS CELL THAT IS BELOW THIS LINE\n",
    "\"\"\"\n",
    "tests.test_output(output)"
   ]
  },
  {
   "cell_type": "markdown",
   "metadata": {},
   "source": [
    "### Create Convolutional Model\n",
    "Implement the function `conv_net` to create a convolutional neural network model. The function takes in a batch of images, `x`, and outputs logits.  Use the layers you created above to create this model:\n",
    "\n",
    "* Apply 1, 2, or 3 Convolution and Max Pool layers\n",
    "* Apply a Flatten Layer\n",
    "* Apply 1, 2, or 3 Fully Connected Layers\n",
    "* Apply an Output Layer\n",
    "* Return the output\n",
    "* Apply [TensorFlow's Dropout](https://www.tensorflow.org/api_docs/python/tf/nn/dropout) to one or more layers in the model using `keep_prob`. "
   ]
  },
  {
   "cell_type": "code",
   "execution_count": 50,
   "metadata": {},
   "outputs": [
    {
     "name": "stdout",
     "output_type": "stream",
     "text": [
      "Neural Network Built!\n"
     ]
    }
   ],
   "source": [
    "def conv_net(x, keep_prob):\n",
    "    \"\"\"\n",
    "    Create a convolutional neural network model\n",
    "    : x: Placeholder tensor that holds image data.\n",
    "    : keep_prob: Placeholder tensor that hold dropout keep probability.\n",
    "    : return: Tensor that represents logits\n",
    "    \"\"\"\n",
    "    # TODO: Apply 1, 2, or 3 Convolution and Max Pool layers\n",
    "    #    Play around with different number of outputs, kernel size and stride\n",
    "    # Function Definition from Above:\n",
    "    #    conv2d_maxpool(x_tensor, conv_num_outputs, conv_ksize, conv_strides, pool_ksize, pool_strides)\n",
    "    conv1 = conv2d_maxpool(\n",
    "        x_tensor=x, \n",
    "        conv_num_outputs=32, \n",
    "        conv_ksize=(3, 3), \n",
    "        conv_strides=(1, 1), \n",
    "        pool_ksize=(2, 2), \n",
    "        pool_strides=(2, 2)\n",
    "    )\n",
    "    conv2 = conv2d_maxpool(\n",
    "        x_tensor=conv1, \n",
    "        conv_num_outputs=64, \n",
    "        conv_ksize=(3, 3), \n",
    "        conv_strides=(1, 1), \n",
    "        pool_ksize=(2, 2), \n",
    "        pool_strides=(2, 2)\n",
    "    )\n",
    "    conv2 = tf.nn.dropout(conv2, keep_prob)\n",
    "    #conv3 = conv2d_maxpool(\n",
    "    #    x_tensor=conv2, \n",
    "    #    conv_num_outputs=128, \n",
    "    #    conv_ksize=(3, 3), \n",
    "    #    conv_strides=(1, 1), \n",
    "    #    pool_ksize=(2, 2), \n",
    "    #    pool_strides=(2, 2)\n",
    "    #)\n",
    "    # TODO: Apply a Flatten Layer\n",
    "    # Function Definition from Above:\n",
    "    #   flatten(x_tensor)\n",
    "    \n",
    "    flat = flatten(conv2)\n",
    "    # TODO: Apply 1, 2, or 3 Fully Connected Layers\n",
    "    #    Play around with different number of outputs\n",
    "    # Function Definition from Above:\n",
    "    #   fully_conn(x_tensor, num_outputs)\n",
    "    \n",
    "    fc1 = fully_conn(flat, 64)\n",
    "    fc1 = tf.nn.dropout(fc1, keep_prob)\n",
    "    #fc2 = fully_conn(fc1, 64)\n",
    "    #fc2 = tf.nn.dropout(fc2, keep_prob)\n",
    "    # TODO: Apply an Output Layer\n",
    "    #    Set this to the number of classes\n",
    "    # Function Definition from Above:\n",
    "    #   output(x_tensor, num_outputs)\n",
    "    \n",
    "    out = output(fc1, 10)\n",
    "    # TODO: return output\n",
    "    return out\n",
    "\n",
    "\n",
    "\"\"\"\n",
    "DON'T MODIFY ANYTHING IN THIS CELL THAT IS BELOW THIS LINE\n",
    "\"\"\"\n",
    "\n",
    "##############################\n",
    "## Build the Neural Network ##\n",
    "##############################\n",
    "\n",
    "# Remove previous weights, bias, inputs, etc..\n",
    "tf.reset_default_graph()\n",
    "\n",
    "# Inputs\n",
    "x = neural_net_image_input((32, 32, 3))\n",
    "y = neural_net_label_input(10)\n",
    "keep_prob = neural_net_keep_prob_input()\n",
    "\n",
    "# Model\n",
    "logits = conv_net(x, keep_prob)\n",
    "\n",
    "# Name logits Tensor, so that is can be loaded from disk after training\n",
    "logits = tf.identity(logits, name='logits')\n",
    "\n",
    "# Loss and Optimizer\n",
    "cost = tf.reduce_mean(tf.nn.softmax_cross_entropy_with_logits(logits=logits, labels=y))\n",
    "optimizer = tf.train.AdamOptimizer().minimize(cost)\n",
    "\n",
    "# Accuracy\n",
    "correct_pred = tf.equal(tf.argmax(logits, 1), tf.argmax(y, 1))\n",
    "accuracy = tf.reduce_mean(tf.cast(correct_pred, tf.float32), name='accuracy')\n",
    "\n",
    "tests.test_conv_net(conv_net)"
   ]
  },
  {
   "cell_type": "markdown",
   "metadata": {},
   "source": [
    "## Train the Neural Network\n",
    "### Single Optimization\n",
    "Implement the function `train_neural_network` to do a single optimization.  The optimization should use `optimizer` to optimize in `session` with a `feed_dict` of the following:\n",
    "* `x` for image input\n",
    "* `y` for labels\n",
    "* `keep_prob` for keep probability for dropout\n",
    "\n",
    "This function will be called for each batch, so `tf.global_variables_initializer()` has already been called.\n",
    "\n",
    "Note: Nothing needs to be returned. This function is only optimizing the neural network."
   ]
  },
  {
   "cell_type": "code",
   "execution_count": 51,
   "metadata": {},
   "outputs": [
    {
     "name": "stdout",
     "output_type": "stream",
     "text": [
      "Tests Passed\n"
     ]
    }
   ],
   "source": [
    "def train_neural_network(session, optimizer, keep_probability, feature_batch, label_batch):\n",
    "    \"\"\"\n",
    "    Optimize the session on a batch of images and labels\n",
    "    : session: Current TensorFlow session\n",
    "    : optimizer: TensorFlow optimizer function\n",
    "    : keep_probability: keep probability\n",
    "    : feature_batch: Batch of Numpy image data\n",
    "    : label_batch: Batch of Numpy label data\n",
    "    \"\"\"\n",
    "    \n",
    "    session.run(\n",
    "        optimizer, \n",
    "        feed_dict={\n",
    "                x: feature_batch,\n",
    "                y: label_batch,\n",
    "                keep_prob: keep_probability}\n",
    "    )\n",
    "\n",
    "\n",
    "\n",
    "\"\"\"\n",
    "DON'T MODIFY ANYTHING IN THIS CELL THAT IS BELOW THIS LINE\n",
    "\"\"\"\n",
    "tests.test_train_nn(train_neural_network)"
   ]
  },
  {
   "cell_type": "markdown",
   "metadata": {},
   "source": [
    "### Show Stats\n",
    "Implement the function `print_stats` to print loss and validation accuracy.  Use the global variables `valid_features` and `valid_labels` to calculate validation accuracy.  Use a keep probability of `1.0` to calculate the loss and validation accuracy."
   ]
  },
  {
   "cell_type": "code",
   "execution_count": 76,
   "metadata": {
    "collapsed": true
   },
   "outputs": [],
   "source": [
    "def print_stats(session, feature_batch, label_batch, cost, accuracy):\n",
    "    \"\"\"\n",
    "    Print information about loss and validation accuracy\n",
    "    : session: Current TensorFlow session\n",
    "    : feature_batch: Batch of Numpy image data\n",
    "    : label_batch: Batch of Numpy label data\n",
    "    : cost: TensorFlow cost function\n",
    "    : accuracy: TensorFlow accuracy function\n",
    "    \"\"\"\n",
    "    # TODO: Implement Function\n",
    "    train_cost, train_acc = session.run((cost, accuracy), feed_dict={\n",
    "                x: feature_batch,\n",
    "                y: label_batch,\n",
    "                keep_prob: 1.})\n",
    "    valid_cost, valid_acc = session.run((cost, accuracy), feed_dict={\n",
    "                x: valid_features,\n",
    "                y: valid_labels,\n",
    "                keep_prob: 1.})\n",
    "    print(\"Train cost: {0:.3f}, acc: {1:.3f}. Val cost: {2:.3f}, acc: {3:.3f}\".format(\n",
    "        train_cost, train_acc, valid_cost, valid_acc))"
   ]
  },
  {
   "cell_type": "markdown",
   "metadata": {},
   "source": [
    "### Hyperparameters\n",
    "Tune the following parameters:\n",
    "* Set `epochs` to the number of iterations until the network stops learning or start overfitting\n",
    "* Set `batch_size` to the highest number that your machine has memory for.  Most people set them to common sizes of memory:\n",
    " * 64\n",
    " * 128\n",
    " * 256\n",
    " * ...\n",
    "* Set `keep_probability` to the probability of keeping a node using dropout"
   ]
  },
  {
   "cell_type": "code",
   "execution_count": 77,
   "metadata": {
    "collapsed": true
   },
   "outputs": [],
   "source": [
    "# TODO: Tune Parameters\n",
    "epochs = 50\n",
    "batch_size = 256\n",
    "keep_probability = 0.5"
   ]
  },
  {
   "cell_type": "markdown",
   "metadata": {},
   "source": [
    "### Train on a Single CIFAR-10 Batch\n",
    "Instead of training the neural network on all the CIFAR-10 batches of data, let's use a single batch. This should save time while you iterate on the model to get a better accuracy.  Once the final validation accuracy is 50% or greater, run the model on all the data in the next section."
   ]
  },
  {
   "cell_type": "code",
   "execution_count": 78,
   "metadata": {},
   "outputs": [
    {
     "name": "stdout",
     "output_type": "stream",
     "text": [
      "Checking the Training on a Single Batch...\n",
      "Epoch  1, CIFAR-10 Batch 1:  Train cost: 2.303, acc: 0.050. Val cost: 2.303, acc: 0.097\n",
      "Epoch  2, CIFAR-10 Batch 1:  Train cost: 2.303, acc: 0.050. Val cost: 2.303, acc: 0.097\n",
      "Epoch  3, CIFAR-10 Batch 1:  Train cost: 2.303, acc: 0.125. Val cost: 2.303, acc: 0.105\n",
      "Epoch  4, CIFAR-10 Batch 1:  Train cost: 2.301, acc: 0.150. Val cost: 2.301, acc: 0.109\n",
      "Epoch  5, CIFAR-10 Batch 1:  Train cost: 2.255, acc: 0.175. Val cost: 2.281, acc: 0.133\n",
      "Epoch  6, CIFAR-10 Batch 1:  Train cost: 2.231, acc: 0.150. Val cost: 2.276, acc: 0.137\n",
      "Epoch  7, CIFAR-10 Batch 1:  Train cost: 2.197, acc: 0.175. Val cost: 2.264, acc: 0.137\n",
      "Epoch  8, CIFAR-10 Batch 1:  Train cost: 2.133, acc: 0.200. Val cost: 2.187, acc: 0.179\n",
      "Epoch  9, CIFAR-10 Batch 1:  Train cost: 2.062, acc: 0.325. Val cost: 2.058, acc: 0.291\n",
      "Epoch 10, CIFAR-10 Batch 1:  Train cost: 1.990, acc: 0.400. Val cost: 2.022, acc: 0.322\n",
      "Epoch 11, CIFAR-10 Batch 1:  Train cost: 1.917, acc: 0.400. Val cost: 1.933, acc: 0.341\n",
      "Epoch 12, CIFAR-10 Batch 1:  Train cost: 1.864, acc: 0.475. Val cost: 1.901, acc: 0.382\n",
      "Epoch 13, CIFAR-10 Batch 1:  Train cost: 1.761, acc: 0.500. Val cost: 1.791, acc: 0.390\n",
      "Epoch 14, CIFAR-10 Batch 1:  Train cost: 1.699, acc: 0.425. Val cost: 1.699, acc: 0.410\n",
      "Epoch 15, CIFAR-10 Batch 1:  Train cost: 1.587, acc: 0.550. Val cost: 1.657, acc: 0.426\n",
      "Epoch 16, CIFAR-10 Batch 1:  Train cost: 1.486, acc: 0.600. Val cost: 1.602, acc: 0.441\n",
      "Epoch 17, CIFAR-10 Batch 1:  Train cost: 1.407, acc: 0.675. Val cost: 1.592, acc: 0.438\n",
      "Epoch 18, CIFAR-10 Batch 1:  Train cost: 1.287, acc: 0.625. Val cost: 1.519, acc: 0.460\n",
      "Epoch 19, CIFAR-10 Batch 1:  Train cost: 1.175, acc: 0.750. Val cost: 1.464, acc: 0.486\n",
      "Epoch 20, CIFAR-10 Batch 1:  Train cost: 1.111, acc: 0.775. Val cost: 1.428, acc: 0.506\n",
      "Epoch 21, CIFAR-10 Batch 1:  Train cost: 1.061, acc: 0.750. Val cost: 1.387, acc: 0.518\n",
      "Epoch 22, CIFAR-10 Batch 1:  Train cost: 0.974, acc: 0.775. Val cost: 1.369, acc: 0.520\n",
      "Epoch 23, CIFAR-10 Batch 1:  Train cost: 0.939, acc: 0.775. Val cost: 1.381, acc: 0.529\n",
      "Epoch 24, CIFAR-10 Batch 1:  Train cost: 0.882, acc: 0.775. Val cost: 1.352, acc: 0.534\n",
      "Epoch 25, CIFAR-10 Batch 1:  Train cost: 0.856, acc: 0.750. Val cost: 1.316, acc: 0.543\n",
      "Epoch 26, CIFAR-10 Batch 1:  Train cost: 0.835, acc: 0.800. Val cost: 1.299, acc: 0.547\n",
      "Epoch 27, CIFAR-10 Batch 1:  Train cost: 0.756, acc: 0.825. Val cost: 1.279, acc: 0.556\n",
      "Epoch 28, CIFAR-10 Batch 1:  Train cost: 0.751, acc: 0.775. Val cost: 1.263, acc: 0.554\n",
      "Epoch 29, CIFAR-10 Batch 1:  Train cost: 0.676, acc: 0.825. Val cost: 1.268, acc: 0.561\n",
      "Epoch 30, CIFAR-10 Batch 1:  Train cost: 0.643, acc: 0.825. Val cost: 1.246, acc: 0.558\n",
      "Epoch 31, CIFAR-10 Batch 1:  Train cost: 0.654, acc: 0.850. Val cost: 1.260, acc: 0.561\n",
      "Epoch 32, CIFAR-10 Batch 1:  Train cost: 0.600, acc: 0.850. Val cost: 1.247, acc: 0.565\n",
      "Epoch 33, CIFAR-10 Batch 1:  Train cost: 0.605, acc: 0.825. Val cost: 1.254, acc: 0.562\n",
      "Epoch 34, CIFAR-10 Batch 1:  Train cost: 0.546, acc: 0.875. Val cost: 1.195, acc: 0.577\n",
      "Epoch 35, CIFAR-10 Batch 1:  Train cost: 0.517, acc: 0.900. Val cost: 1.198, acc: 0.576\n",
      "Epoch 36, CIFAR-10 Batch 1:  Train cost: 0.512, acc: 0.900. Val cost: 1.198, acc: 0.580\n",
      "Epoch 37, CIFAR-10 Batch 1:  Train cost: 0.494, acc: 0.850. Val cost: 1.188, acc: 0.583\n",
      "Epoch 38, CIFAR-10 Batch 1:  Train cost: 0.476, acc: 0.875. Val cost: 1.178, acc: 0.588\n",
      "Epoch 39, CIFAR-10 Batch 1:  Train cost: 0.537, acc: 0.875. Val cost: 1.205, acc: 0.577\n",
      "Epoch 40, CIFAR-10 Batch 1:  Train cost: 0.472, acc: 0.875. Val cost: 1.171, acc: 0.590\n",
      "Epoch 41, CIFAR-10 Batch 1:  Train cost: 0.443, acc: 0.875. Val cost: 1.171, acc: 0.587\n",
      "Epoch 42, CIFAR-10 Batch 1:  Train cost: 0.437, acc: 0.925. Val cost: 1.199, acc: 0.578\n",
      "Epoch 43, CIFAR-10 Batch 1:  Train cost: 0.431, acc: 0.925. Val cost: 1.144, acc: 0.605\n",
      "Epoch 44, CIFAR-10 Batch 1:  Train cost: 0.415, acc: 0.925. Val cost: 1.159, acc: 0.593\n",
      "Epoch 45, CIFAR-10 Batch 1:  Train cost: 0.374, acc: 0.950. Val cost: 1.156, acc: 0.589\n",
      "Epoch 46, CIFAR-10 Batch 1:  Train cost: 0.342, acc: 0.975. Val cost: 1.121, acc: 0.605\n",
      "Epoch 47, CIFAR-10 Batch 1:  Train cost: 0.334, acc: 1.000. Val cost: 1.153, acc: 0.598\n",
      "Epoch 48, CIFAR-10 Batch 1:  Train cost: 0.317, acc: 0.975. Val cost: 1.143, acc: 0.604\n",
      "Epoch 49, CIFAR-10 Batch 1:  Train cost: 0.286, acc: 1.000. Val cost: 1.118, acc: 0.610\n",
      "Epoch 50, CIFAR-10 Batch 1:  Train cost: 0.307, acc: 1.000. Val cost: 1.125, acc: 0.602\n"
     ]
    }
   ],
   "source": [
    "\"\"\"\n",
    "DON'T MODIFY ANYTHING IN THIS CELL\n",
    "\"\"\"\n",
    "print('Checking the Training on a Single Batch...')\n",
    "with tf.Session() as sess:\n",
    "    # Initializing the variables\n",
    "    sess.run(tf.global_variables_initializer())\n",
    "    \n",
    "    # Training cycle\n",
    "    for epoch in range(epochs):\n",
    "        batch_i = 1\n",
    "        for batch_features, batch_labels in helper.load_preprocess_training_batch(batch_i, batch_size):\n",
    "            train_neural_network(sess, optimizer, keep_probability, batch_features, batch_labels)\n",
    "        print('Epoch {:>2}, CIFAR-10 Batch {}:  '.format(epoch + 1, batch_i), end='')\n",
    "        print_stats(sess, batch_features, batch_labels, cost, accuracy)"
   ]
  },
  {
   "cell_type": "markdown",
   "metadata": {},
   "source": [
    "### Fully Train the Model\n",
    "Now that you got a good accuracy with a single CIFAR-10 batch, try it with all five batches."
   ]
  },
  {
   "cell_type": "code",
   "execution_count": 79,
   "metadata": {},
   "outputs": [
    {
     "name": "stdout",
     "output_type": "stream",
     "text": [
      "Training...\n",
      "Epoch  1, CIFAR-10 Batch 1:  Train cost: 2.303, acc: 0.100. Val cost: 2.303, acc: 0.095\n",
      "Epoch  1, CIFAR-10 Batch 2:  Train cost: 2.304, acc: 0.100. Val cost: 2.303, acc: 0.100\n",
      "Epoch  1, CIFAR-10 Batch 3:  Train cost: 2.303, acc: 0.100. Val cost: 2.303, acc: 0.100\n",
      "Epoch  1, CIFAR-10 Batch 4:  Train cost: 2.302, acc: 0.125. Val cost: 2.303, acc: 0.094\n",
      "Epoch  1, CIFAR-10 Batch 5:  Train cost: 2.303, acc: 0.100. Val cost: 2.303, acc: 0.094\n",
      "Epoch  2, CIFAR-10 Batch 1:  Train cost: 2.303, acc: 0.100. Val cost: 2.303, acc: 0.095\n",
      "Epoch  2, CIFAR-10 Batch 2:  Train cost: 2.302, acc: 0.050. Val cost: 2.303, acc: 0.095\n",
      "Epoch  2, CIFAR-10 Batch 3:  Train cost: 2.301, acc: 0.200. Val cost: 2.303, acc: 0.094\n",
      "Epoch  2, CIFAR-10 Batch 4:  Train cost: 2.301, acc: 0.125. Val cost: 2.303, acc: 0.094\n",
      "Epoch  2, CIFAR-10 Batch 5:  Train cost: 2.303, acc: 0.100. Val cost: 2.303, acc: 0.094\n",
      "Epoch  3, CIFAR-10 Batch 1:  Train cost: 2.303, acc: 0.125. Val cost: 2.303, acc: 0.094\n",
      "Epoch  3, CIFAR-10 Batch 2:  Train cost: 2.302, acc: 0.175. Val cost: 2.303, acc: 0.094\n",
      "Epoch  3, CIFAR-10 Batch 3:  Train cost: 2.301, acc: 0.200. Val cost: 2.303, acc: 0.094\n",
      "Epoch  3, CIFAR-10 Batch 4:  Train cost: 2.301, acc: 0.125. Val cost: 2.303, acc: 0.094\n",
      "Epoch  3, CIFAR-10 Batch 5:  Train cost: 2.302, acc: 0.100. Val cost: 2.303, acc: 0.094\n",
      "Epoch  4, CIFAR-10 Batch 1:  Train cost: 2.303, acc: 0.125. Val cost: 2.303, acc: 0.094\n",
      "Epoch  4, CIFAR-10 Batch 2:  Train cost: 2.301, acc: 0.175. Val cost: 2.303, acc: 0.094\n",
      "Epoch  4, CIFAR-10 Batch 3:  Train cost: 2.300, acc: 0.200. Val cost: 2.303, acc: 0.094\n",
      "Epoch  4, CIFAR-10 Batch 4:  Train cost: 2.301, acc: 0.125. Val cost: 2.303, acc: 0.094\n",
      "Epoch  4, CIFAR-10 Batch 5:  Train cost: 2.302, acc: 0.100. Val cost: 2.303, acc: 0.094\n",
      "Epoch  5, CIFAR-10 Batch 1:  Train cost: 2.303, acc: 0.125. Val cost: 2.303, acc: 0.094\n",
      "Epoch  5, CIFAR-10 Batch 2:  Train cost: 2.301, acc: 0.175. Val cost: 2.303, acc: 0.094\n",
      "Epoch  5, CIFAR-10 Batch 3:  Train cost: 2.300, acc: 0.200. Val cost: 2.303, acc: 0.094\n",
      "Epoch  5, CIFAR-10 Batch 4:  Train cost: 2.301, acc: 0.125. Val cost: 2.303, acc: 0.094\n",
      "Epoch  5, CIFAR-10 Batch 5:  Train cost: 2.302, acc: 0.100. Val cost: 2.303, acc: 0.094\n",
      "Epoch  6, CIFAR-10 Batch 1:  Train cost: 2.303, acc: 0.125. Val cost: 2.303, acc: 0.094\n",
      "Epoch  6, CIFAR-10 Batch 2:  Train cost: 2.301, acc: 0.175. Val cost: 2.303, acc: 0.094\n",
      "Epoch  6, CIFAR-10 Batch 3:  Train cost: 2.300, acc: 0.200. Val cost: 2.303, acc: 0.094\n",
      "Epoch  6, CIFAR-10 Batch 4:  Train cost: 2.301, acc: 0.125. Val cost: 2.303, acc: 0.094\n",
      "Epoch  6, CIFAR-10 Batch 5:  Train cost: 2.302, acc: 0.100. Val cost: 2.303, acc: 0.094\n",
      "Epoch  7, CIFAR-10 Batch 1:  Train cost: 2.303, acc: 0.125. Val cost: 2.303, acc: 0.094\n",
      "Epoch  7, CIFAR-10 Batch 2:  Train cost: 2.301, acc: 0.175. Val cost: 2.303, acc: 0.094\n",
      "Epoch  7, CIFAR-10 Batch 3:  Train cost: 2.300, acc: 0.200. Val cost: 2.303, acc: 0.094\n",
      "Epoch  7, CIFAR-10 Batch 4:  Train cost: 2.301, acc: 0.125. Val cost: 2.303, acc: 0.094\n",
      "Epoch  7, CIFAR-10 Batch 5:  Train cost: 2.302, acc: 0.100. Val cost: 2.303, acc: 0.094\n",
      "Epoch  8, CIFAR-10 Batch 1:  Train cost: 2.303, acc: 0.125. Val cost: 2.303, acc: 0.094\n",
      "Epoch  8, CIFAR-10 Batch 2:  Train cost: 2.299, acc: 0.175. Val cost: 2.303, acc: 0.094\n",
      "Epoch  8, CIFAR-10 Batch 3:  Train cost: 2.300, acc: 0.200. Val cost: 2.302, acc: 0.094\n",
      "Epoch  8, CIFAR-10 Batch 4:  Train cost: 2.298, acc: 0.125. Val cost: 2.299, acc: 0.094\n",
      "Epoch  8, CIFAR-10 Batch 5:  Train cost: 2.301, acc: 0.100. Val cost: 2.300, acc: 0.094\n",
      "Epoch  9, CIFAR-10 Batch 1:  Train cost: 2.292, acc: 0.100. Val cost: 2.288, acc: 0.106\n",
      "Epoch  9, CIFAR-10 Batch 2:  Train cost: 2.228, acc: 0.275. Val cost: 2.153, acc: 0.167\n",
      "Epoch  9, CIFAR-10 Batch 3:  Train cost: 2.118, acc: 0.125. Val cost: 2.090, acc: 0.186\n",
      "Epoch  9, CIFAR-10 Batch 4:  Train cost: 2.091, acc: 0.225. Val cost: 2.095, acc: 0.230\n",
      "Epoch  9, CIFAR-10 Batch 5:  Train cost: 2.053, acc: 0.275. Val cost: 1.997, acc: 0.249\n",
      "Epoch 10, CIFAR-10 Batch 1:  Train cost: 2.036, acc: 0.300. Val cost: 1.936, acc: 0.289\n",
      "Epoch 10, CIFAR-10 Batch 2:  Train cost: 1.896, acc: 0.375. Val cost: 1.847, acc: 0.350\n",
      "Epoch 10, CIFAR-10 Batch 3:  Train cost: 1.612, acc: 0.500. Val cost: 1.768, acc: 0.367\n",
      "Epoch 10, CIFAR-10 Batch 4:  Train cost: 1.762, acc: 0.400. Val cost: 1.797, acc: 0.385\n",
      "Epoch 10, CIFAR-10 Batch 5:  Train cost: 1.643, acc: 0.400. Val cost: 1.658, acc: 0.439\n",
      "Epoch 11, CIFAR-10 Batch 1:  Train cost: 1.702, acc: 0.450. Val cost: 1.581, acc: 0.451\n",
      "Epoch 11, CIFAR-10 Batch 2:  Train cost: 1.530, acc: 0.425. Val cost: 1.563, acc: 0.452\n",
      "Epoch 11, CIFAR-10 Batch 3:  Train cost: 1.252, acc: 0.650. Val cost: 1.504, acc: 0.478\n",
      "Epoch 11, CIFAR-10 Batch 4:  Train cost: 1.475, acc: 0.475. Val cost: 1.535, acc: 0.486\n",
      "Epoch 11, CIFAR-10 Batch 5:  Train cost: 1.500, acc: 0.575. Val cost: 1.490, acc: 0.497\n",
      "Epoch 12, CIFAR-10 Batch 1:  Train cost: 1.465, acc: 0.550. Val cost: 1.420, acc: 0.507\n",
      "Epoch 12, CIFAR-10 Batch 2:  Train cost: 1.359, acc: 0.525. Val cost: 1.400, acc: 0.523\n",
      "Epoch 12, CIFAR-10 Batch 3:  Train cost: 1.133, acc: 0.675. Val cost: 1.392, acc: 0.515\n",
      "Epoch 12, CIFAR-10 Batch 4:  Train cost: 1.336, acc: 0.575. Val cost: 1.367, acc: 0.526\n",
      "Epoch 12, CIFAR-10 Batch 5:  Train cost: 1.306, acc: 0.650. Val cost: 1.342, acc: 0.535\n",
      "Epoch 13, CIFAR-10 Batch 1:  Train cost: 1.323, acc: 0.525. Val cost: 1.349, acc: 0.526\n",
      "Epoch 13, CIFAR-10 Batch 2:  Train cost: 1.227, acc: 0.550. Val cost: 1.338, acc: 0.533\n",
      "Epoch 13, CIFAR-10 Batch 3:  Train cost: 1.065, acc: 0.750. Val cost: 1.323, acc: 0.536\n",
      "Epoch 13, CIFAR-10 Batch 4:  Train cost: 1.180, acc: 0.575. Val cost: 1.256, acc: 0.553\n",
      "Epoch 13, CIFAR-10 Batch 5:  Train cost: 1.225, acc: 0.600. Val cost: 1.293, acc: 0.548\n",
      "Epoch 14, CIFAR-10 Batch 1:  Train cost: 1.222, acc: 0.575. Val cost: 1.269, acc: 0.557\n",
      "Epoch 14, CIFAR-10 Batch 2:  Train cost: 1.127, acc: 0.575. Val cost: 1.230, acc: 0.570\n",
      "Epoch 14, CIFAR-10 Batch 3:  Train cost: 1.013, acc: 0.775. Val cost: 1.257, acc: 0.556\n",
      "Epoch 14, CIFAR-10 Batch 4:  Train cost: 1.049, acc: 0.600. Val cost: 1.214, acc: 0.576\n",
      "Epoch 14, CIFAR-10 Batch 5:  Train cost: 1.077, acc: 0.675. Val cost: 1.198, acc: 0.573\n",
      "Epoch 15, CIFAR-10 Batch 1:  Train cost: 1.180, acc: 0.575. Val cost: 1.180, acc: 0.582\n",
      "Epoch 15, CIFAR-10 Batch 2:  Train cost: 1.114, acc: 0.625. Val cost: 1.188, acc: 0.579\n",
      "Epoch 15, CIFAR-10 Batch 3:  Train cost: 0.893, acc: 0.750. Val cost: 1.188, acc: 0.580\n",
      "Epoch 15, CIFAR-10 Batch 4:  Train cost: 0.954, acc: 0.650. Val cost: 1.172, acc: 0.586\n",
      "Epoch 15, CIFAR-10 Batch 5:  Train cost: 1.056, acc: 0.750. Val cost: 1.185, acc: 0.575\n",
      "Epoch 16, CIFAR-10 Batch 1:  Train cost: 1.073, acc: 0.625. Val cost: 1.195, acc: 0.580\n",
      "Epoch 16, CIFAR-10 Batch 2:  Train cost: 0.972, acc: 0.700. Val cost: 1.166, acc: 0.586\n",
      "Epoch 16, CIFAR-10 Batch 3:  Train cost: 0.770, acc: 0.750. Val cost: 1.131, acc: 0.598\n",
      "Epoch 16, CIFAR-10 Batch 4:  Train cost: 0.886, acc: 0.700. Val cost: 1.123, acc: 0.605\n",
      "Epoch 16, CIFAR-10 Batch 5:  Train cost: 0.940, acc: 0.800. Val cost: 1.116, acc: 0.603\n",
      "Epoch 17, CIFAR-10 Batch 1:  Train cost: 0.984, acc: 0.725. Val cost: 1.129, acc: 0.602\n",
      "Epoch 17, CIFAR-10 Batch 2:  Train cost: 0.941, acc: 0.675. Val cost: 1.115, acc: 0.608\n",
      "Epoch 17, CIFAR-10 Batch 3:  Train cost: 0.717, acc: 0.800. Val cost: 1.107, acc: 0.612\n",
      "Epoch 17, CIFAR-10 Batch 4:  Train cost: 0.869, acc: 0.750. Val cost: 1.106, acc: 0.609\n",
      "Epoch 17, CIFAR-10 Batch 5:  Train cost: 0.921, acc: 0.800. Val cost: 1.091, acc: 0.613\n",
      "Epoch 18, CIFAR-10 Batch 1:  Train cost: 0.926, acc: 0.675. Val cost: 1.107, acc: 0.613\n",
      "Epoch 18, CIFAR-10 Batch 2:  Train cost: 0.919, acc: 0.700. Val cost: 1.092, acc: 0.626\n",
      "Epoch 18, CIFAR-10 Batch 3:  Train cost: 0.691, acc: 0.850. Val cost: 1.066, acc: 0.622\n",
      "Epoch 18, CIFAR-10 Batch 4:  Train cost: 0.820, acc: 0.725. Val cost: 1.085, acc: 0.629\n",
      "Epoch 18, CIFAR-10 Batch 5:  Train cost: 0.868, acc: 0.725. Val cost: 1.060, acc: 0.626\n",
      "Epoch 19, CIFAR-10 Batch 1:  Train cost: 0.858, acc: 0.750. Val cost: 1.078, acc: 0.625\n",
      "Epoch 19, CIFAR-10 Batch 2:  Train cost: 0.835, acc: 0.725. Val cost: 1.061, acc: 0.628\n",
      "Epoch 19, CIFAR-10 Batch 3:  Train cost: 0.634, acc: 0.825. Val cost: 1.054, acc: 0.630\n"
     ]
    },
    {
     "name": "stdout",
     "output_type": "stream",
     "text": [
      "Epoch 19, CIFAR-10 Batch 4:  Train cost: 0.756, acc: 0.775. Val cost: 1.043, acc: 0.640\n",
      "Epoch 19, CIFAR-10 Batch 5:  Train cost: 0.873, acc: 0.775. Val cost: 1.051, acc: 0.627\n",
      "Epoch 20, CIFAR-10 Batch 1:  Train cost: 0.799, acc: 0.750. Val cost: 1.040, acc: 0.639\n",
      "Epoch 20, CIFAR-10 Batch 2:  Train cost: 0.783, acc: 0.700. Val cost: 1.064, acc: 0.624\n",
      "Epoch 20, CIFAR-10 Batch 3:  Train cost: 0.646, acc: 0.850. Val cost: 1.024, acc: 0.640\n",
      "Epoch 20, CIFAR-10 Batch 4:  Train cost: 0.709, acc: 0.825. Val cost: 1.020, acc: 0.645\n",
      "Epoch 20, CIFAR-10 Batch 5:  Train cost: 0.770, acc: 0.825. Val cost: 1.025, acc: 0.647\n",
      "Epoch 21, CIFAR-10 Batch 1:  Train cost: 0.754, acc: 0.775. Val cost: 1.037, acc: 0.646\n",
      "Epoch 21, CIFAR-10 Batch 2:  Train cost: 0.716, acc: 0.850. Val cost: 1.010, acc: 0.651\n",
      "Epoch 21, CIFAR-10 Batch 3:  Train cost: 0.550, acc: 0.850. Val cost: 1.014, acc: 0.649\n",
      "Epoch 21, CIFAR-10 Batch 4:  Train cost: 0.623, acc: 0.900. Val cost: 0.997, acc: 0.656\n",
      "Epoch 21, CIFAR-10 Batch 5:  Train cost: 0.744, acc: 0.825. Val cost: 1.003, acc: 0.652\n",
      "Epoch 22, CIFAR-10 Batch 1:  Train cost: 0.728, acc: 0.750. Val cost: 1.004, acc: 0.656\n",
      "Epoch 22, CIFAR-10 Batch 2:  Train cost: 0.697, acc: 0.850. Val cost: 0.990, acc: 0.656\n",
      "Epoch 22, CIFAR-10 Batch 3:  Train cost: 0.567, acc: 0.900. Val cost: 0.988, acc: 0.665\n",
      "Epoch 22, CIFAR-10 Batch 4:  Train cost: 0.664, acc: 0.825. Val cost: 0.984, acc: 0.666\n",
      "Epoch 22, CIFAR-10 Batch 5:  Train cost: 0.687, acc: 0.875. Val cost: 0.997, acc: 0.649\n",
      "Epoch 23, CIFAR-10 Batch 1:  Train cost: 0.670, acc: 0.775. Val cost: 0.996, acc: 0.658\n",
      "Epoch 23, CIFAR-10 Batch 2:  Train cost: 0.654, acc: 0.850. Val cost: 0.996, acc: 0.663\n",
      "Epoch 23, CIFAR-10 Batch 3:  Train cost: 0.513, acc: 0.850. Val cost: 0.983, acc: 0.668\n",
      "Epoch 23, CIFAR-10 Batch 4:  Train cost: 0.572, acc: 0.850. Val cost: 0.972, acc: 0.666\n",
      "Epoch 23, CIFAR-10 Batch 5:  Train cost: 0.630, acc: 0.850. Val cost: 0.979, acc: 0.666\n",
      "Epoch 24, CIFAR-10 Batch 1:  Train cost: 0.620, acc: 0.775. Val cost: 0.974, acc: 0.667\n",
      "Epoch 24, CIFAR-10 Batch 2:  Train cost: 0.587, acc: 0.925. Val cost: 0.976, acc: 0.663\n",
      "Epoch 24, CIFAR-10 Batch 3:  Train cost: 0.481, acc: 0.825. Val cost: 0.968, acc: 0.665\n",
      "Epoch 24, CIFAR-10 Batch 4:  Train cost: 0.583, acc: 0.900. Val cost: 0.965, acc: 0.671\n",
      "Epoch 24, CIFAR-10 Batch 5:  Train cost: 0.646, acc: 0.850. Val cost: 0.965, acc: 0.663\n",
      "Epoch 25, CIFAR-10 Batch 1:  Train cost: 0.630, acc: 0.775. Val cost: 0.957, acc: 0.677\n",
      "Epoch 25, CIFAR-10 Batch 2:  Train cost: 0.567, acc: 0.875. Val cost: 0.967, acc: 0.669\n",
      "Epoch 25, CIFAR-10 Batch 3:  Train cost: 0.442, acc: 0.850. Val cost: 0.958, acc: 0.668\n",
      "Epoch 25, CIFAR-10 Batch 4:  Train cost: 0.545, acc: 0.900. Val cost: 0.934, acc: 0.685\n",
      "Epoch 25, CIFAR-10 Batch 5:  Train cost: 0.598, acc: 0.900. Val cost: 0.947, acc: 0.675\n",
      "Epoch 26, CIFAR-10 Batch 1:  Train cost: 0.577, acc: 0.800. Val cost: 0.960, acc: 0.672\n",
      "Epoch 26, CIFAR-10 Batch 2:  Train cost: 0.532, acc: 0.925. Val cost: 0.935, acc: 0.681\n",
      "Epoch 26, CIFAR-10 Batch 3:  Train cost: 0.425, acc: 0.900. Val cost: 0.943, acc: 0.680\n",
      "Epoch 26, CIFAR-10 Batch 4:  Train cost: 0.486, acc: 0.925. Val cost: 0.938, acc: 0.686\n",
      "Epoch 26, CIFAR-10 Batch 5:  Train cost: 0.566, acc: 0.900. Val cost: 0.929, acc: 0.685\n",
      "Epoch 27, CIFAR-10 Batch 1:  Train cost: 0.562, acc: 0.825. Val cost: 0.930, acc: 0.676\n",
      "Epoch 27, CIFAR-10 Batch 2:  Train cost: 0.514, acc: 0.925. Val cost: 0.931, acc: 0.677\n",
      "Epoch 27, CIFAR-10 Batch 3:  Train cost: 0.412, acc: 0.875. Val cost: 0.946, acc: 0.674\n",
      "Epoch 27, CIFAR-10 Batch 4:  Train cost: 0.508, acc: 0.875. Val cost: 0.934, acc: 0.683\n",
      "Epoch 27, CIFAR-10 Batch 5:  Train cost: 0.563, acc: 0.875. Val cost: 0.926, acc: 0.680\n",
      "Epoch 28, CIFAR-10 Batch 1:  Train cost: 0.538, acc: 0.775. Val cost: 0.932, acc: 0.684\n",
      "Epoch 28, CIFAR-10 Batch 2:  Train cost: 0.509, acc: 0.925. Val cost: 0.925, acc: 0.686\n",
      "Epoch 28, CIFAR-10 Batch 3:  Train cost: 0.419, acc: 0.900. Val cost: 0.965, acc: 0.671\n",
      "Epoch 28, CIFAR-10 Batch 4:  Train cost: 0.478, acc: 0.975. Val cost: 0.925, acc: 0.690\n",
      "Epoch 28, CIFAR-10 Batch 5:  Train cost: 0.560, acc: 0.900. Val cost: 0.916, acc: 0.689\n",
      "Epoch 29, CIFAR-10 Batch 1:  Train cost: 0.498, acc: 0.875. Val cost: 0.915, acc: 0.687\n",
      "Epoch 29, CIFAR-10 Batch 2:  Train cost: 0.502, acc: 0.900. Val cost: 0.928, acc: 0.687\n",
      "Epoch 29, CIFAR-10 Batch 3:  Train cost: 0.432, acc: 0.950. Val cost: 0.917, acc: 0.688\n",
      "Epoch 29, CIFAR-10 Batch 4:  Train cost: 0.436, acc: 0.950. Val cost: 0.897, acc: 0.696\n",
      "Epoch 29, CIFAR-10 Batch 5:  Train cost: 0.512, acc: 0.900. Val cost: 0.907, acc: 0.696\n",
      "Epoch 30, CIFAR-10 Batch 1:  Train cost: 0.502, acc: 0.850. Val cost: 0.900, acc: 0.693\n",
      "Epoch 30, CIFAR-10 Batch 2:  Train cost: 0.464, acc: 0.900. Val cost: 0.896, acc: 0.695\n",
      "Epoch 30, CIFAR-10 Batch 3:  Train cost: 0.395, acc: 0.900. Val cost: 0.900, acc: 0.693\n",
      "Epoch 30, CIFAR-10 Batch 4:  Train cost: 0.452, acc: 0.900. Val cost: 0.913, acc: 0.690\n",
      "Epoch 30, CIFAR-10 Batch 5:  Train cost: 0.494, acc: 0.900. Val cost: 0.895, acc: 0.690\n",
      "Epoch 31, CIFAR-10 Batch 1:  Train cost: 0.445, acc: 0.875. Val cost: 0.902, acc: 0.687\n",
      "Epoch 31, CIFAR-10 Batch 2:  Train cost: 0.432, acc: 0.925. Val cost: 0.887, acc: 0.695\n",
      "Epoch 31, CIFAR-10 Batch 3:  Train cost: 0.383, acc: 0.900. Val cost: 0.908, acc: 0.687\n",
      "Epoch 31, CIFAR-10 Batch 4:  Train cost: 0.449, acc: 0.900. Val cost: 0.907, acc: 0.687\n",
      "Epoch 31, CIFAR-10 Batch 5:  Train cost: 0.530, acc: 0.900. Val cost: 0.908, acc: 0.693\n",
      "Epoch 32, CIFAR-10 Batch 1:  Train cost: 0.476, acc: 0.800. Val cost: 0.881, acc: 0.700\n",
      "Epoch 32, CIFAR-10 Batch 2:  Train cost: 0.437, acc: 0.950. Val cost: 0.880, acc: 0.705\n",
      "Epoch 32, CIFAR-10 Batch 3:  Train cost: 0.346, acc: 0.950. Val cost: 0.892, acc: 0.697\n",
      "Epoch 32, CIFAR-10 Batch 4:  Train cost: 0.419, acc: 0.900. Val cost: 0.880, acc: 0.703\n",
      "Epoch 32, CIFAR-10 Batch 5:  Train cost: 0.494, acc: 0.925. Val cost: 0.874, acc: 0.708\n",
      "Epoch 33, CIFAR-10 Batch 1:  Train cost: 0.419, acc: 0.875. Val cost: 0.884, acc: 0.695\n",
      "Epoch 33, CIFAR-10 Batch 2:  Train cost: 0.438, acc: 0.950. Val cost: 0.891, acc: 0.699\n",
      "Epoch 33, CIFAR-10 Batch 3:  Train cost: 0.359, acc: 0.900. Val cost: 0.903, acc: 0.693\n",
      "Epoch 33, CIFAR-10 Batch 4:  Train cost: 0.400, acc: 0.925. Val cost: 0.889, acc: 0.700\n",
      "Epoch 33, CIFAR-10 Batch 5:  Train cost: 0.479, acc: 0.925. Val cost: 0.870, acc: 0.708\n",
      "Epoch 34, CIFAR-10 Batch 1:  Train cost: 0.427, acc: 0.850. Val cost: 0.878, acc: 0.707\n",
      "Epoch 34, CIFAR-10 Batch 2:  Train cost: 0.420, acc: 0.900. Val cost: 0.872, acc: 0.700\n",
      "Epoch 34, CIFAR-10 Batch 3:  Train cost: 0.340, acc: 0.975. Val cost: 0.875, acc: 0.699\n",
      "Epoch 34, CIFAR-10 Batch 4:  Train cost: 0.378, acc: 0.900. Val cost: 0.876, acc: 0.701\n",
      "Epoch 34, CIFAR-10 Batch 5:  Train cost: 0.416, acc: 0.925. Val cost: 0.860, acc: 0.715\n",
      "Epoch 35, CIFAR-10 Batch 1:  Train cost: 0.404, acc: 0.875. Val cost: 0.864, acc: 0.709\n",
      "Epoch 35, CIFAR-10 Batch 2:  Train cost: 0.399, acc: 0.850. Val cost: 0.866, acc: 0.707\n",
      "Epoch 35, CIFAR-10 Batch 3:  Train cost: 0.351, acc: 0.925. Val cost: 0.900, acc: 0.693\n",
      "Epoch 35, CIFAR-10 Batch 4:  Train cost: 0.393, acc: 0.925. Val cost: 0.869, acc: 0.708\n",
      "Epoch 35, CIFAR-10 Batch 5:  Train cost: 0.433, acc: 0.900. Val cost: 0.862, acc: 0.709\n",
      "Epoch 36, CIFAR-10 Batch 1:  Train cost: 0.393, acc: 0.850. Val cost: 0.866, acc: 0.713\n",
      "Epoch 36, CIFAR-10 Batch 2:  Train cost: 0.363, acc: 0.925. Val cost: 0.863, acc: 0.713\n",
      "Epoch 36, CIFAR-10 Batch 3:  Train cost: 0.293, acc: 0.975. Val cost: 0.857, acc: 0.716\n",
      "Epoch 36, CIFAR-10 Batch 4:  Train cost: 0.349, acc: 0.950. Val cost: 0.847, acc: 0.716\n",
      "Epoch 36, CIFAR-10 Batch 5:  Train cost: 0.417, acc: 0.925. Val cost: 0.851, acc: 0.709\n",
      "Epoch 37, CIFAR-10 Batch 1:  Train cost: 0.389, acc: 0.900. Val cost: 0.853, acc: 0.711\n",
      "Epoch 37, CIFAR-10 Batch 2:  Train cost: 0.366, acc: 0.900. Val cost: 0.850, acc: 0.713\n",
      "Epoch 37, CIFAR-10 Batch 3:  Train cost: 0.305, acc: 0.925. Val cost: 0.863, acc: 0.708\n",
      "Epoch 37, CIFAR-10 Batch 4:  Train cost: 0.377, acc: 0.975. Val cost: 0.888, acc: 0.699\n",
      "Epoch 37, CIFAR-10 Batch 5:  Train cost: 0.394, acc: 0.975. Val cost: 0.856, acc: 0.716\n",
      "Epoch 38, CIFAR-10 Batch 1:  Train cost: 0.384, acc: 0.850. Val cost: 0.866, acc: 0.710\n"
     ]
    },
    {
     "name": "stdout",
     "output_type": "stream",
     "text": [
      "Epoch 38, CIFAR-10 Batch 2:  Train cost: 0.360, acc: 0.950. Val cost: 0.844, acc: 0.719\n",
      "Epoch 38, CIFAR-10 Batch 3:  Train cost: 0.326, acc: 0.975. Val cost: 0.854, acc: 0.711\n",
      "Epoch 38, CIFAR-10 Batch 4:  Train cost: 0.351, acc: 0.975. Val cost: 0.853, acc: 0.710\n",
      "Epoch 38, CIFAR-10 Batch 5:  Train cost: 0.373, acc: 0.975. Val cost: 0.846, acc: 0.715\n",
      "Epoch 39, CIFAR-10 Batch 1:  Train cost: 0.373, acc: 0.875. Val cost: 0.841, acc: 0.721\n",
      "Epoch 39, CIFAR-10 Batch 2:  Train cost: 0.346, acc: 0.950. Val cost: 0.849, acc: 0.712\n",
      "Epoch 39, CIFAR-10 Batch 3:  Train cost: 0.263, acc: 0.975. Val cost: 0.830, acc: 0.724\n",
      "Epoch 39, CIFAR-10 Batch 4:  Train cost: 0.303, acc: 0.975. Val cost: 0.829, acc: 0.720\n",
      "Epoch 39, CIFAR-10 Batch 5:  Train cost: 0.363, acc: 0.950. Val cost: 0.838, acc: 0.723\n",
      "Epoch 40, CIFAR-10 Batch 1:  Train cost: 0.411, acc: 0.825. Val cost: 0.857, acc: 0.716\n",
      "Epoch 40, CIFAR-10 Batch 2:  Train cost: 0.312, acc: 0.925. Val cost: 0.841, acc: 0.720\n",
      "Epoch 40, CIFAR-10 Batch 3:  Train cost: 0.282, acc: 0.975. Val cost: 0.867, acc: 0.704\n",
      "Epoch 40, CIFAR-10 Batch 4:  Train cost: 0.321, acc: 1.000. Val cost: 0.848, acc: 0.716\n",
      "Epoch 40, CIFAR-10 Batch 5:  Train cost: 0.344, acc: 0.950. Val cost: 0.834, acc: 0.723\n",
      "Epoch 41, CIFAR-10 Batch 1:  Train cost: 0.350, acc: 0.875. Val cost: 0.839, acc: 0.719\n",
      "Epoch 41, CIFAR-10 Batch 2:  Train cost: 0.305, acc: 0.925. Val cost: 0.825, acc: 0.721\n",
      "Epoch 41, CIFAR-10 Batch 3:  Train cost: 0.273, acc: 0.975. Val cost: 0.839, acc: 0.717\n",
      "Epoch 41, CIFAR-10 Batch 4:  Train cost: 0.327, acc: 0.975. Val cost: 0.840, acc: 0.717\n",
      "Epoch 41, CIFAR-10 Batch 5:  Train cost: 0.358, acc: 0.975. Val cost: 0.840, acc: 0.714\n",
      "Epoch 42, CIFAR-10 Batch 1:  Train cost: 0.329, acc: 0.875. Val cost: 0.827, acc: 0.724\n",
      "Epoch 42, CIFAR-10 Batch 2:  Train cost: 0.293, acc: 0.950. Val cost: 0.836, acc: 0.719\n",
      "Epoch 42, CIFAR-10 Batch 3:  Train cost: 0.271, acc: 0.975. Val cost: 0.841, acc: 0.720\n",
      "Epoch 42, CIFAR-10 Batch 4:  Train cost: 0.301, acc: 1.000. Val cost: 0.840, acc: 0.716\n",
      "Epoch 42, CIFAR-10 Batch 5:  Train cost: 0.357, acc: 0.975. Val cost: 0.833, acc: 0.722\n",
      "Epoch 43, CIFAR-10 Batch 1:  Train cost: 0.340, acc: 0.900. Val cost: 0.827, acc: 0.727\n",
      "Epoch 43, CIFAR-10 Batch 2:  Train cost: 0.306, acc: 0.950. Val cost: 0.824, acc: 0.726\n",
      "Epoch 43, CIFAR-10 Batch 3:  Train cost: 0.251, acc: 0.975. Val cost: 0.839, acc: 0.721\n",
      "Epoch 43, CIFAR-10 Batch 4:  Train cost: 0.294, acc: 1.000. Val cost: 0.824, acc: 0.722\n",
      "Epoch 43, CIFAR-10 Batch 5:  Train cost: 0.326, acc: 0.950. Val cost: 0.820, acc: 0.724\n",
      "Epoch 44, CIFAR-10 Batch 1:  Train cost: 0.337, acc: 0.925. Val cost: 0.826, acc: 0.724\n",
      "Epoch 44, CIFAR-10 Batch 2:  Train cost: 0.291, acc: 0.925. Val cost: 0.808, acc: 0.730\n",
      "Epoch 44, CIFAR-10 Batch 3:  Train cost: 0.248, acc: 0.950. Val cost: 0.817, acc: 0.727\n",
      "Epoch 44, CIFAR-10 Batch 4:  Train cost: 0.278, acc: 1.000. Val cost: 0.822, acc: 0.723\n",
      "Epoch 44, CIFAR-10 Batch 5:  Train cost: 0.318, acc: 0.975. Val cost: 0.827, acc: 0.721\n",
      "Epoch 45, CIFAR-10 Batch 1:  Train cost: 0.342, acc: 0.900. Val cost: 0.814, acc: 0.724\n",
      "Epoch 45, CIFAR-10 Batch 2:  Train cost: 0.300, acc: 0.950. Val cost: 0.817, acc: 0.726\n",
      "Epoch 45, CIFAR-10 Batch 3:  Train cost: 0.258, acc: 0.975. Val cost: 0.834, acc: 0.721\n",
      "Epoch 45, CIFAR-10 Batch 4:  Train cost: 0.252, acc: 1.000. Val cost: 0.810, acc: 0.725\n",
      "Epoch 45, CIFAR-10 Batch 5:  Train cost: 0.305, acc: 0.975. Val cost: 0.819, acc: 0.725\n",
      "Epoch 46, CIFAR-10 Batch 1:  Train cost: 0.318, acc: 0.925. Val cost: 0.813, acc: 0.726\n",
      "Epoch 46, CIFAR-10 Batch 2:  Train cost: 0.294, acc: 0.925. Val cost: 0.829, acc: 0.718\n",
      "Epoch 46, CIFAR-10 Batch 3:  Train cost: 0.239, acc: 0.975. Val cost: 0.809, acc: 0.729\n",
      "Epoch 46, CIFAR-10 Batch 4:  Train cost: 0.259, acc: 0.950. Val cost: 0.834, acc: 0.716\n",
      "Epoch 46, CIFAR-10 Batch 5:  Train cost: 0.294, acc: 0.975. Val cost: 0.829, acc: 0.725\n",
      "Epoch 47, CIFAR-10 Batch 1:  Train cost: 0.302, acc: 0.975. Val cost: 0.817, acc: 0.730\n",
      "Epoch 47, CIFAR-10 Batch 2:  Train cost: 0.262, acc: 0.950. Val cost: 0.803, acc: 0.728\n",
      "Epoch 47, CIFAR-10 Batch 3:  Train cost: 0.231, acc: 0.975. Val cost: 0.837, acc: 0.720\n",
      "Epoch 47, CIFAR-10 Batch 4:  Train cost: 0.256, acc: 1.000. Val cost: 0.810, acc: 0.735\n",
      "Epoch 47, CIFAR-10 Batch 5:  Train cost: 0.312, acc: 0.975. Val cost: 0.809, acc: 0.729\n",
      "Epoch 48, CIFAR-10 Batch 1:  Train cost: 0.278, acc: 0.975. Val cost: 0.831, acc: 0.721\n",
      "Epoch 48, CIFAR-10 Batch 2:  Train cost: 0.294, acc: 0.925. Val cost: 0.845, acc: 0.720\n",
      "Epoch 48, CIFAR-10 Batch 3:  Train cost: 0.238, acc: 0.975. Val cost: 0.818, acc: 0.726\n",
      "Epoch 48, CIFAR-10 Batch 4:  Train cost: 0.241, acc: 1.000. Val cost: 0.797, acc: 0.738\n",
      "Epoch 48, CIFAR-10 Batch 5:  Train cost: 0.307, acc: 0.975. Val cost: 0.828, acc: 0.722\n",
      "Epoch 49, CIFAR-10 Batch 1:  Train cost: 0.286, acc: 0.925. Val cost: 0.805, acc: 0.729\n",
      "Epoch 49, CIFAR-10 Batch 2:  Train cost: 0.248, acc: 0.950. Val cost: 0.796, acc: 0.733\n",
      "Epoch 49, CIFAR-10 Batch 3:  Train cost: 0.221, acc: 0.975. Val cost: 0.818, acc: 0.722\n",
      "Epoch 49, CIFAR-10 Batch 4:  Train cost: 0.241, acc: 1.000. Val cost: 0.804, acc: 0.729\n",
      "Epoch 49, CIFAR-10 Batch 5:  Train cost: 0.279, acc: 0.975. Val cost: 0.800, acc: 0.731\n",
      "Epoch 50, CIFAR-10 Batch 1:  Train cost: 0.291, acc: 0.925. Val cost: 0.808, acc: 0.733\n",
      "Epoch 50, CIFAR-10 Batch 2:  Train cost: 0.231, acc: 0.925. Val cost: 0.812, acc: 0.729\n",
      "Epoch 50, CIFAR-10 Batch 3:  Train cost: 0.206, acc: 0.975. Val cost: 0.840, acc: 0.718\n",
      "Epoch 50, CIFAR-10 Batch 4:  Train cost: 0.260, acc: 1.000. Val cost: 0.809, acc: 0.733\n",
      "Epoch 50, CIFAR-10 Batch 5:  Train cost: 0.247, acc: 0.975. Val cost: 0.800, acc: 0.734\n"
     ]
    }
   ],
   "source": [
    "\"\"\"\n",
    "DON'T MODIFY ANYTHING IN THIS CELL\n",
    "\"\"\"\n",
    "save_model_path = './image_classification'\n",
    "\n",
    "print('Training...')\n",
    "with tf.Session() as sess:\n",
    "    # Initializing the variables\n",
    "    sess.run(tf.global_variables_initializer())\n",
    "    \n",
    "    # Training cycle\n",
    "    for epoch in range(epochs):\n",
    "        # Loop over all batches\n",
    "        n_batches = 5\n",
    "        for batch_i in range(1, n_batches + 1):\n",
    "            for batch_features, batch_labels in helper.load_preprocess_training_batch(batch_i, batch_size):\n",
    "                train_neural_network(sess, optimizer, keep_probability, batch_features, batch_labels)\n",
    "            print('Epoch {:>2}, CIFAR-10 Batch {}:  '.format(epoch + 1, batch_i), end='')\n",
    "            print_stats(sess, batch_features, batch_labels, cost, accuracy)\n",
    "            \n",
    "    # Save Model\n",
    "    saver = tf.train.Saver()\n",
    "    save_path = saver.save(sess, save_model_path)"
   ]
  },
  {
   "cell_type": "markdown",
   "metadata": {},
   "source": [
    "# Checkpoint\n",
    "The model has been saved to disk.\n",
    "## Test Model\n",
    "Test your model against the test dataset.  This will be your final accuracy. You should have an accuracy greater than 50%. If you don't, keep tweaking the model architecture and parameters."
   ]
  },
  {
   "cell_type": "code",
   "execution_count": 80,
   "metadata": {},
   "outputs": [
    {
     "name": "stdout",
     "output_type": "stream",
     "text": [
      "INFO:tensorflow:Restoring parameters from ./image_classification\n",
      "Testing Accuracy: 0.7203125\n",
      "\n"
     ]
    },
    {
     "data": {
      "image/png": "[encoded data removed]",
      "text/plain": [
       "<matplotlib.figure.Figure at 0x116f4d470>"
      ]
     },
     "metadata": {
      "image/png": {
       "height": 319,
       "width": 355
      }
     },
     "output_type": "display_data"
    }
   ],
   "source": [
    "\"\"\"\n",
    "DON'T MODIFY ANYTHING IN THIS CELL\n",
    "\"\"\"\n",
    "%matplotlib inline\n",
    "%config InlineBackend.figure_format = 'retina'\n",
    "\n",
    "import tensorflow as tf\n",
    "import pickle\n",
    "import helper\n",
    "import random\n",
    "\n",
    "# Set batch size if not already set\n",
    "try:\n",
    "    if batch_size:\n",
    "        pass\n",
    "except NameError:\n",
    "    batch_size = 64\n",
    "\n",
    "save_model_path = './image_classification'\n",
    "n_samples = 4\n",
    "top_n_predictions = 3\n",
    "\n",
    "def test_model():\n",
    "    \"\"\"\n",
    "    Test the saved model against the test dataset\n",
    "    \"\"\"\n",
    "\n",
    "    test_features, test_labels = pickle.load(open('preprocess_test.p', mode='rb'))\n",
    "    loaded_graph = tf.Graph()\n",
    "\n",
    "    with tf.Session(graph=loaded_graph) as sess:\n",
    "        # Load model\n",
    "        loader = tf.train.import_meta_graph(save_model_path + '.meta')\n",
    "        loader.restore(sess, save_model_path)\n",
    "\n",
    "        # Get Tensors from loaded model\n",
    "        loaded_x = loaded_graph.get_tensor_by_name('x:0')\n",
    "        loaded_y = loaded_graph.get_tensor_by_name('y:0')\n",
    "        loaded_keep_prob = loaded_graph.get_tensor_by_name('keep_prob:0')\n",
    "        loaded_logits = loaded_graph.get_tensor_by_name('logits:0')\n",
    "        loaded_acc = loaded_graph.get_tensor_by_name('accuracy:0')\n",
    "        \n",
    "        # Get accuracy in batches for memory limitations\n",
    "        test_batch_acc_total = 0\n",
    "        test_batch_count = 0\n",
    "        \n",
    "        for test_feature_batch, test_label_batch in helper.batch_features_labels(test_features, test_labels, batch_size):\n",
    "            test_batch_acc_total += sess.run(\n",
    "                loaded_acc,\n",
    "                feed_dict={loaded_x: test_feature_batch, loaded_y: test_label_batch, loaded_keep_prob: 1.0})\n",
    "            test_batch_count += 1\n",
    "\n",
    "        print('Testing Accuracy: {}\\n'.format(test_batch_acc_total/test_batch_count))\n",
    "\n",
    "        # Print Random Samples\n",
    "        random_test_features, random_test_labels = tuple(zip(*random.sample(list(zip(test_features, test_labels)), n_samples)))\n",
    "        random_test_predictions = sess.run(\n",
    "            tf.nn.top_k(tf.nn.softmax(loaded_logits), top_n_predictions),\n",
    "            feed_dict={loaded_x: random_test_features, loaded_y: random_test_labels, loaded_keep_prob: 1.0})\n",
    "        helper.display_image_predictions(random_test_features, random_test_labels, random_test_predictions)\n",
    "\n",
    "\n",
    "test_model()"
   ]
  },
  {
   "cell_type": "markdown",
   "metadata": {},
   "source": [
    "## Why 50-80% Accuracy?\n",
    "You might be wondering why you can't get an accuracy any higher. First things first, 50% isn't bad for a simple CNN.  Pure guessing would get you 10% accuracy. However, you might notice people are getting scores [well above 80%](http://rodrigob.github.io/are_we_there_yet/build/classification_datasets_results.html#43494641522d3130).  That's because we haven't taught you all there is to know about neural networks. We still need to cover a few more techniques.\n",
    "## Submitting This Project\n",
    "When submitting this project, make sure to run all the cells before saving the notebook.  Save the notebook file as \"dlnd_image_classification.ipynb\" and save it as a HTML file under \"File\" -> \"Download as\".  Include the \"helper.py\" and \"problem_unittests.py\" files in your submission."
   ]
  }
 ],
 "metadata": {
  "kernelspec": {
   "display_name": "Python 3",
   "language": "python",
   "name": "python3"
  },
  "language_info": {
   "codemirror_mode": {
    "name": "ipython",
    "version": 3
   },
   "file_extension": ".py",
   "mimetype": "text/x-python",
   "name": "python",
   "nbconvert_exporter": "python",
   "pygments_lexer": "ipython3",
   "version": "3.5.3"
  }
 },
 "nbformat": 4,
 "nbformat_minor": 1
}
